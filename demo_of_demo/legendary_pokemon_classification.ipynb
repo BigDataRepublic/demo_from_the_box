{
 "cells": [
  {
   "cell_type": "markdown",
   "metadata": {},
   "source": [
    "# Pokemon dataset\n",
    "\n",
    "We are going to predict if a pokemon is legendary or not. Because of infinite businessvalue "
   ]
  },
  {
   "cell_type": "markdown",
   "metadata": {},
   "source": [
    "## Libraries\n",
    "This demo is intended to demo sci-kit models trained and validated with a pandas data-frame so we will use the sci-kit and pandas libraries"
   ]
  },
  {
   "cell_type": "code",
   "execution_count": 1,
   "metadata": {
    "collapsed": true
   },
   "outputs": [],
   "source": [
    "import os\n",
    "import pandas as pd"
   ]
  },
  {
   "cell_type": "markdown",
   "metadata": {},
   "source": [
    "## Load dataset\n",
    "This dataset origins from: https://www.kaggle.com/abcsds/pokemon/downloads/Pokemon.csv"
   ]
  },
  {
   "cell_type": "code",
   "execution_count": 2,
   "metadata": {},
   "outputs": [
    {
     "data": {
      "text/html": [
       "<div>\n",
       "<style>\n",
       "    .dataframe thead tr:only-child th {\n",
       "        text-align: right;\n",
       "    }\n",
       "\n",
       "    .dataframe thead th {\n",
       "        text-align: left;\n",
       "    }\n",
       "\n",
       "    .dataframe tbody tr th {\n",
       "        vertical-align: top;\n",
       "    }\n",
       "</style>\n",
       "<table border=\"1\" class=\"dataframe\">\n",
       "  <thead>\n",
       "    <tr style=\"text-align: right;\">\n",
       "      <th></th>\n",
       "      <th>Name</th>\n",
       "      <th>Type 1</th>\n",
       "      <th>Type 2</th>\n",
       "      <th>Total</th>\n",
       "      <th>HP</th>\n",
       "      <th>Attack</th>\n",
       "      <th>Defense</th>\n",
       "      <th>Sp. Atk</th>\n",
       "      <th>Sp. Def</th>\n",
       "      <th>Speed</th>\n",
       "      <th>Generation</th>\n",
       "      <th>Legendary</th>\n",
       "    </tr>\n",
       "    <tr>\n",
       "      <th>#</th>\n",
       "      <th></th>\n",
       "      <th></th>\n",
       "      <th></th>\n",
       "      <th></th>\n",
       "      <th></th>\n",
       "      <th></th>\n",
       "      <th></th>\n",
       "      <th></th>\n",
       "      <th></th>\n",
       "      <th></th>\n",
       "      <th></th>\n",
       "      <th></th>\n",
       "    </tr>\n",
       "  </thead>\n",
       "  <tbody>\n",
       "    <tr>\n",
       "      <th>1</th>\n",
       "      <td>Bulbasaur</td>\n",
       "      <td>Grass</td>\n",
       "      <td>Poison</td>\n",
       "      <td>318</td>\n",
       "      <td>45</td>\n",
       "      <td>49</td>\n",
       "      <td>49</td>\n",
       "      <td>65</td>\n",
       "      <td>65</td>\n",
       "      <td>45</td>\n",
       "      <td>1</td>\n",
       "      <td>False</td>\n",
       "    </tr>\n",
       "    <tr>\n",
       "      <th>2</th>\n",
       "      <td>Ivysaur</td>\n",
       "      <td>Grass</td>\n",
       "      <td>Poison</td>\n",
       "      <td>405</td>\n",
       "      <td>60</td>\n",
       "      <td>62</td>\n",
       "      <td>63</td>\n",
       "      <td>80</td>\n",
       "      <td>80</td>\n",
       "      <td>60</td>\n",
       "      <td>1</td>\n",
       "      <td>False</td>\n",
       "    </tr>\n",
       "    <tr>\n",
       "      <th>3</th>\n",
       "      <td>Venusaur</td>\n",
       "      <td>Grass</td>\n",
       "      <td>Poison</td>\n",
       "      <td>525</td>\n",
       "      <td>80</td>\n",
       "      <td>82</td>\n",
       "      <td>83</td>\n",
       "      <td>100</td>\n",
       "      <td>100</td>\n",
       "      <td>80</td>\n",
       "      <td>1</td>\n",
       "      <td>False</td>\n",
       "    </tr>\n",
       "    <tr>\n",
       "      <th>3</th>\n",
       "      <td>VenusaurMega Venusaur</td>\n",
       "      <td>Grass</td>\n",
       "      <td>Poison</td>\n",
       "      <td>625</td>\n",
       "      <td>80</td>\n",
       "      <td>100</td>\n",
       "      <td>123</td>\n",
       "      <td>122</td>\n",
       "      <td>120</td>\n",
       "      <td>80</td>\n",
       "      <td>1</td>\n",
       "      <td>False</td>\n",
       "    </tr>\n",
       "    <tr>\n",
       "      <th>4</th>\n",
       "      <td>Charmander</td>\n",
       "      <td>Fire</td>\n",
       "      <td>NaN</td>\n",
       "      <td>309</td>\n",
       "      <td>39</td>\n",
       "      <td>52</td>\n",
       "      <td>43</td>\n",
       "      <td>60</td>\n",
       "      <td>50</td>\n",
       "      <td>65</td>\n",
       "      <td>1</td>\n",
       "      <td>False</td>\n",
       "    </tr>\n",
       "  </tbody>\n",
       "</table>\n",
       "</div>"
      ],
      "text/plain": [
       "                    Name Type 1  Type 2  Total  HP  Attack  Defense  Sp. Atk  \\\n",
       "#                                                                              \n",
       "1              Bulbasaur  Grass  Poison    318  45      49       49       65   \n",
       "2                Ivysaur  Grass  Poison    405  60      62       63       80   \n",
       "3               Venusaur  Grass  Poison    525  80      82       83      100   \n",
       "3  VenusaurMega Venusaur  Grass  Poison    625  80     100      123      122   \n",
       "4             Charmander   Fire     NaN    309  39      52       43       60   \n",
       "\n",
       "   Sp. Def  Speed  Generation  Legendary  \n",
       "#                                         \n",
       "1       65     45           1      False  \n",
       "2       80     60           1      False  \n",
       "3      100     80           1      False  \n",
       "3      120     80           1      False  \n",
       "4       50     65           1      False  "
      ]
     },
     "execution_count": 2,
     "metadata": {},
     "output_type": "execute_result"
    }
   ],
   "source": [
    "data_folder = \"data\"\n",
    "data_file = \"Pokemon.csv\"\n",
    "\n",
    "data_frame = pd.DataFrame.from_csv(os.path.join(data_folder, data_file))\n",
    "data_frame.head(5)"
   ]
  },
  {
   "cell_type": "markdown",
   "metadata": {},
   "source": [
    "## meta data"
   ]
  },
  {
   "cell_type": "code",
   "execution_count": 3,
   "metadata": {},
   "outputs": [
    {
     "name": "stdout",
     "output_type": "stream",
     "text": [
      "number of rows: 800\n"
     ]
    }
   ],
   "source": [
    "print(\"number of rows: \" + str(len(data_frame)))"
   ]
  },
  {
   "cell_type": "code",
   "execution_count": 4,
   "metadata": {},
   "outputs": [
    {
     "data": {
      "text/html": [
       "<div>\n",
       "<style>\n",
       "    .dataframe thead tr:only-child th {\n",
       "        text-align: right;\n",
       "    }\n",
       "\n",
       "    .dataframe thead th {\n",
       "        text-align: left;\n",
       "    }\n",
       "\n",
       "    .dataframe tbody tr th {\n",
       "        vertical-align: top;\n",
       "    }\n",
       "</style>\n",
       "<table border=\"1\" class=\"dataframe\">\n",
       "  <thead>\n",
       "    <tr style=\"text-align: right;\">\n",
       "      <th></th>\n",
       "      <th>Total</th>\n",
       "      <th>HP</th>\n",
       "      <th>Attack</th>\n",
       "      <th>Defense</th>\n",
       "      <th>Sp. Atk</th>\n",
       "      <th>Sp. Def</th>\n",
       "      <th>Speed</th>\n",
       "      <th>Generation</th>\n",
       "    </tr>\n",
       "  </thead>\n",
       "  <tbody>\n",
       "    <tr>\n",
       "      <th>count</th>\n",
       "      <td>800.00000</td>\n",
       "      <td>800.000000</td>\n",
       "      <td>800.000000</td>\n",
       "      <td>800.000000</td>\n",
       "      <td>800.000000</td>\n",
       "      <td>800.000000</td>\n",
       "      <td>800.000000</td>\n",
       "      <td>800.00000</td>\n",
       "    </tr>\n",
       "    <tr>\n",
       "      <th>mean</th>\n",
       "      <td>435.10250</td>\n",
       "      <td>69.258750</td>\n",
       "      <td>79.001250</td>\n",
       "      <td>73.842500</td>\n",
       "      <td>72.820000</td>\n",
       "      <td>71.902500</td>\n",
       "      <td>68.277500</td>\n",
       "      <td>3.32375</td>\n",
       "    </tr>\n",
       "    <tr>\n",
       "      <th>std</th>\n",
       "      <td>119.96304</td>\n",
       "      <td>25.534669</td>\n",
       "      <td>32.457366</td>\n",
       "      <td>31.183501</td>\n",
       "      <td>32.722294</td>\n",
       "      <td>27.828916</td>\n",
       "      <td>29.060474</td>\n",
       "      <td>1.66129</td>\n",
       "    </tr>\n",
       "    <tr>\n",
       "      <th>min</th>\n",
       "      <td>180.00000</td>\n",
       "      <td>1.000000</td>\n",
       "      <td>5.000000</td>\n",
       "      <td>5.000000</td>\n",
       "      <td>10.000000</td>\n",
       "      <td>20.000000</td>\n",
       "      <td>5.000000</td>\n",
       "      <td>1.00000</td>\n",
       "    </tr>\n",
       "    <tr>\n",
       "      <th>25%</th>\n",
       "      <td>330.00000</td>\n",
       "      <td>50.000000</td>\n",
       "      <td>55.000000</td>\n",
       "      <td>50.000000</td>\n",
       "      <td>49.750000</td>\n",
       "      <td>50.000000</td>\n",
       "      <td>45.000000</td>\n",
       "      <td>2.00000</td>\n",
       "    </tr>\n",
       "    <tr>\n",
       "      <th>50%</th>\n",
       "      <td>450.00000</td>\n",
       "      <td>65.000000</td>\n",
       "      <td>75.000000</td>\n",
       "      <td>70.000000</td>\n",
       "      <td>65.000000</td>\n",
       "      <td>70.000000</td>\n",
       "      <td>65.000000</td>\n",
       "      <td>3.00000</td>\n",
       "    </tr>\n",
       "    <tr>\n",
       "      <th>75%</th>\n",
       "      <td>515.00000</td>\n",
       "      <td>80.000000</td>\n",
       "      <td>100.000000</td>\n",
       "      <td>90.000000</td>\n",
       "      <td>95.000000</td>\n",
       "      <td>90.000000</td>\n",
       "      <td>90.000000</td>\n",
       "      <td>5.00000</td>\n",
       "    </tr>\n",
       "    <tr>\n",
       "      <th>max</th>\n",
       "      <td>780.00000</td>\n",
       "      <td>255.000000</td>\n",
       "      <td>190.000000</td>\n",
       "      <td>230.000000</td>\n",
       "      <td>194.000000</td>\n",
       "      <td>230.000000</td>\n",
       "      <td>180.000000</td>\n",
       "      <td>6.00000</td>\n",
       "    </tr>\n",
       "  </tbody>\n",
       "</table>\n",
       "</div>"
      ],
      "text/plain": [
       "           Total          HP      Attack     Defense     Sp. Atk     Sp. Def  \\\n",
       "count  800.00000  800.000000  800.000000  800.000000  800.000000  800.000000   \n",
       "mean   435.10250   69.258750   79.001250   73.842500   72.820000   71.902500   \n",
       "std    119.96304   25.534669   32.457366   31.183501   32.722294   27.828916   \n",
       "min    180.00000    1.000000    5.000000    5.000000   10.000000   20.000000   \n",
       "25%    330.00000   50.000000   55.000000   50.000000   49.750000   50.000000   \n",
       "50%    450.00000   65.000000   75.000000   70.000000   65.000000   70.000000   \n",
       "75%    515.00000   80.000000  100.000000   90.000000   95.000000   90.000000   \n",
       "max    780.00000  255.000000  190.000000  230.000000  194.000000  230.000000   \n",
       "\n",
       "            Speed  Generation  \n",
       "count  800.000000   800.00000  \n",
       "mean    68.277500     3.32375  \n",
       "std     29.060474     1.66129  \n",
       "min      5.000000     1.00000  \n",
       "25%     45.000000     2.00000  \n",
       "50%     65.000000     3.00000  \n",
       "75%     90.000000     5.00000  \n",
       "max    180.000000     6.00000  "
      ]
     },
     "execution_count": 4,
     "metadata": {},
     "output_type": "execute_result"
    }
   ],
   "source": [
    "data_frame.describe()"
   ]
  },
  {
   "cell_type": "code",
   "execution_count": 5,
   "metadata": {},
   "outputs": [
    {
     "data": {
      "text/plain": [
       "Name          object\n",
       "Type 1        object\n",
       "Type 2        object\n",
       "Total          int64\n",
       "HP             int64\n",
       "Attack         int64\n",
       "Defense        int64\n",
       "Sp. Atk        int64\n",
       "Sp. Def        int64\n",
       "Speed          int64\n",
       "Generation     int64\n",
       "Legendary       bool\n",
       "dtype: object"
      ]
     },
     "execution_count": 5,
     "metadata": {},
     "output_type": "execute_result"
    }
   ],
   "source": [
    "data_frame.dtypes"
   ]
  },
  {
   "cell_type": "markdown",
   "metadata": {},
   "source": [
    "## Splitting labels from the set"
   ]
  },
  {
   "cell_type": "code",
   "execution_count": 6,
   "metadata": {
    "collapsed": true
   },
   "outputs": [],
   "source": [
    "data_frame = data_frame.set_index([\"Name\"])"
   ]
  },
  {
   "cell_type": "code",
   "execution_count": 7,
   "metadata": {
    "collapsed": true
   },
   "outputs": [],
   "source": [
    "y = data_frame.Legendary\n",
    "x = data_frame.drop(['Legendary'],1)"
   ]
  },
  {
   "cell_type": "markdown",
   "metadata": {},
   "source": [
    "## Feature engineering\n",
    "\n",
    "We will convert the categoricals with one hot encoding"
   ]
  },
  {
   "cell_type": "code",
   "execution_count": 8,
   "metadata": {},
   "outputs": [
    {
     "data": {
      "text/html": [
       "<div>\n",
       "<style>\n",
       "    .dataframe thead tr:only-child th {\n",
       "        text-align: right;\n",
       "    }\n",
       "\n",
       "    .dataframe thead th {\n",
       "        text-align: left;\n",
       "    }\n",
       "\n",
       "    .dataframe tbody tr th {\n",
       "        vertical-align: top;\n",
       "    }\n",
       "</style>\n",
       "<table border=\"1\" class=\"dataframe\">\n",
       "  <thead>\n",
       "    <tr style=\"text-align: right;\">\n",
       "      <th></th>\n",
       "      <th>Total</th>\n",
       "      <th>HP</th>\n",
       "      <th>Attack</th>\n",
       "      <th>Defense</th>\n",
       "      <th>Sp. Atk</th>\n",
       "      <th>Sp. Def</th>\n",
       "      <th>Speed</th>\n",
       "      <th>Generation</th>\n",
       "      <th>Type 1_Dark</th>\n",
       "      <th>Type 1_Dragon</th>\n",
       "      <th>...</th>\n",
       "      <th>Type 2_Ghost</th>\n",
       "      <th>Type 2_Grass</th>\n",
       "      <th>Type 2_Ground</th>\n",
       "      <th>Type 2_Ice</th>\n",
       "      <th>Type 2_Normal</th>\n",
       "      <th>Type 2_Poison</th>\n",
       "      <th>Type 2_Psychic</th>\n",
       "      <th>Type 2_Rock</th>\n",
       "      <th>Type 2_Steel</th>\n",
       "      <th>Type 2_Water</th>\n",
       "    </tr>\n",
       "    <tr>\n",
       "      <th>Name</th>\n",
       "      <th></th>\n",
       "      <th></th>\n",
       "      <th></th>\n",
       "      <th></th>\n",
       "      <th></th>\n",
       "      <th></th>\n",
       "      <th></th>\n",
       "      <th></th>\n",
       "      <th></th>\n",
       "      <th></th>\n",
       "      <th></th>\n",
       "      <th></th>\n",
       "      <th></th>\n",
       "      <th></th>\n",
       "      <th></th>\n",
       "      <th></th>\n",
       "      <th></th>\n",
       "      <th></th>\n",
       "      <th></th>\n",
       "      <th></th>\n",
       "      <th></th>\n",
       "    </tr>\n",
       "  </thead>\n",
       "  <tbody>\n",
       "    <tr>\n",
       "      <th>Bulbasaur</th>\n",
       "      <td>318</td>\n",
       "      <td>45</td>\n",
       "      <td>49</td>\n",
       "      <td>49</td>\n",
       "      <td>65</td>\n",
       "      <td>65</td>\n",
       "      <td>45</td>\n",
       "      <td>1</td>\n",
       "      <td>0</td>\n",
       "      <td>0</td>\n",
       "      <td>...</td>\n",
       "      <td>0</td>\n",
       "      <td>0</td>\n",
       "      <td>0</td>\n",
       "      <td>0</td>\n",
       "      <td>0</td>\n",
       "      <td>1</td>\n",
       "      <td>0</td>\n",
       "      <td>0</td>\n",
       "      <td>0</td>\n",
       "      <td>0</td>\n",
       "    </tr>\n",
       "  </tbody>\n",
       "</table>\n",
       "<p>1 rows × 42 columns</p>\n",
       "</div>"
      ],
      "text/plain": [
       "           Total  HP  Attack  Defense  Sp. Atk  Sp. Def  Speed  Generation  \\\n",
       "Name                                                                         \n",
       "Bulbasaur    318  45      49       49       65       65     45           1   \n",
       "\n",
       "           Type 1_Dark  Type 1_Dragon      ...       Type 2_Ghost  \\\n",
       "Name                                       ...                      \n",
       "Bulbasaur            0              0      ...                  0   \n",
       "\n",
       "           Type 2_Grass  Type 2_Ground  Type 2_Ice  Type 2_Normal  \\\n",
       "Name                                                                \n",
       "Bulbasaur             0              0           0              0   \n",
       "\n",
       "           Type 2_Poison  Type 2_Psychic  Type 2_Rock  Type 2_Steel  \\\n",
       "Name                                                                  \n",
       "Bulbasaur              1               0            0             0   \n",
       "\n",
       "           Type 2_Water  \n",
       "Name                     \n",
       "Bulbasaur             0  \n",
       "\n",
       "[1 rows x 42 columns]"
      ]
     },
     "execution_count": 8,
     "metadata": {},
     "output_type": "execute_result"
    }
   ],
   "source": [
    "x = pd.get_dummies(x,drop_first=True)\n",
    "x.head(1)"
   ]
  },
  {
   "cell_type": "markdown",
   "metadata": {},
   "source": [
    "## Data science\n",
    "To keep the example simple we'll just use a ordinary logistic regression for binary classification"
   ]
  },
  {
   "cell_type": "code",
   "execution_count": 9,
   "metadata": {},
   "outputs": [],
   "source": [
    "import tpot"
   ]
  },
  {
   "cell_type": "code",
   "execution_count": 10,
   "metadata": {
    "collapsed": true
   },
   "outputs": [],
   "source": [
    "from sklearn.linear_model import LogisticRegression\n",
    "model = LogisticRegression(C=10, penalty='l1', tol=0.01)"
   ]
  },
  {
   "cell_type": "markdown",
   "metadata": {},
   "source": [
    "## Evaluation"
   ]
  },
  {
   "cell_type": "code",
   "execution_count": 11,
   "metadata": {
    "collapsed": true
   },
   "outputs": [],
   "source": [
    "from sklearn.model_selection import cross_val_score"
   ]
  },
  {
   "cell_type": "code",
   "execution_count": 12,
   "metadata": {
    "collapsed": true
   },
   "outputs": [],
   "source": [
    "scores = cross_val_score(model, x, y, cv=10)"
   ]
  },
  {
   "cell_type": "code",
   "execution_count": 13,
   "metadata": {},
   "outputs": [
    {
     "data": {
      "text/plain": [
       "array([ 0.92592593,  0.92592593,  0.92592593,  0.91358025,  0.92592593,\n",
       "        0.87341772,  0.93670886,  0.97468354,  0.92405063,  0.89873418])"
      ]
     },
     "execution_count": 13,
     "metadata": {},
     "output_type": "execute_result"
    }
   ],
   "source": [
    "scores"
   ]
  },
  {
   "cell_type": "markdown",
   "metadata": {},
   "source": [
    "# Host the demo interface\n",
    "We need a trained model and a clear x and y set"
   ]
  },
  {
   "cell_type": "code",
   "execution_count": 14,
   "metadata": {
    "collapsed": true
   },
   "outputs": [],
   "source": [
    "trained_model = model.fit(x,y)"
   ]
  },
  {
   "cell_type": "code",
   "execution_count": null,
   "metadata": {},
   "outputs": [
    {
     "name": "stderr",
     "output_type": "stream",
     "text": [
      " * Running on http://0.0.0.0:5777/ (Press CTRL+C to quit)\n",
      "127.0.0.1 - - [16/Aug/2017 14:18:48] \"OPTIONS /predict HTTP/1.1\" 200 -\n"
     ]
    },
    {
     "name": "stdout",
     "output_type": "stream",
     "text": [
      "Received input data: {'Total': '3180', 'HP': '450', 'Attack': '490', 'Defense': '490', 'Sp. Atk': '650', 'Sp. Def': '650', 'Speed': '450', 'Generation': 1, 'Type 1_Dark': 0, 'Type 1_Dragon': 0, 'Type 1_Electric': 0, 'Type 1_Fairy': 0, 'Type 1_Fighting': 0, 'Type 1_Fire': 0, 'Type 1_Flying': 0, 'Type 1_Ghost': 0, 'Type 1_Grass': 1, 'Type 1_Ground': 0, 'Type 1_Ice': 0, 'Type 1_Normal': 0, 'Type 1_Poison': 0, 'Type 1_Psychic': 0, 'Type 1_Rock': 0, 'Type 1_Steel': 0, 'Type 1_Water': 0, 'Type 2_Dark': 0, 'Type 2_Dragon': 0, 'Type 2_Electric': 0, 'Type 2_Fairy': 0, 'Type 2_Fighting': 0, 'Type 2_Fire': 0, 'Type 2_Flying': 0, 'Type 2_Ghost': 0, 'Type 2_Grass': 0, 'Type 2_Ground': 0, 'Type 2_Ice': 0, 'Type 2_Normal': 0, 'Type 2_Poison': 1, 'Type 2_Psychic': 0, 'Type 2_Rock': 0, 'Type 2_Steel': 0, 'Type 2_Water': 0}\n",
      "[False]\n"
     ]
    },
    {
     "name": "stderr",
     "output_type": "stream",
     "text": [
      "127.0.0.1 - - [16/Aug/2017 14:18:48] \"POST /predict HTTP/1.1\" 200 -\n",
      "127.0.0.1 - - [16/Aug/2017 14:19:11] \"OPTIONS /predict HTTP/1.1\" 200 -\n"
     ]
    },
    {
     "name": "stdout",
     "output_type": "stream",
     "text": [
      "Received input data: {'Total': '3180', 'HP': '4500', 'Attack': '4900', 'Defense': '4900', 'Sp. Atk': '6500', 'Sp. Def': '6500', 'Speed': '4500', 'Generation': 1, 'Type 1_Dark': 0, 'Type 1_Dragon': 0, 'Type 1_Electric': 0, 'Type 1_Fairy': 0, 'Type 1_Fighting': 0, 'Type 1_Fire': 0, 'Type 1_Flying': 0, 'Type 1_Ghost': 0, 'Type 1_Grass': 1, 'Type 1_Ground': 0, 'Type 1_Ice': 0, 'Type 1_Normal': 0, 'Type 1_Poison': 0, 'Type 1_Psychic': 0, 'Type 1_Rock': 0, 'Type 1_Steel': 0, 'Type 1_Water': 0, 'Type 2_Dark': 0, 'Type 2_Dragon': 0, 'Type 2_Electric': 0, 'Type 2_Fairy': 0, 'Type 2_Fighting': 0, 'Type 2_Fire': 0, 'Type 2_Flying': 0, 'Type 2_Ghost': 0, 'Type 2_Grass': 0, 'Type 2_Ground': 0, 'Type 2_Ice': 0, 'Type 2_Normal': 0, 'Type 2_Poison': 1, 'Type 2_Psychic': 0, 'Type 2_Rock': 0, 'Type 2_Steel': 0, 'Type 2_Water': 0}\n",
      "[ True]\n"
     ]
    },
    {
     "name": "stderr",
     "output_type": "stream",
     "text": [
      "127.0.0.1 - - [16/Aug/2017 14:19:11] \"POST /predict HTTP/1.1\" 200 -\n",
      "127.0.0.1 - - [16/Aug/2017 14:21:20] \"GET /example_input HTTP/1.1\" 200 -\n",
      "127.0.0.1 - - [16/Aug/2017 14:21:43] \"GET /example_input HTTP/1.1\" 200 -\n",
      "127.0.0.1 - - [16/Aug/2017 14:22:25] \"GET /example_input HTTP/1.1\" 200 -\n",
      "127.0.0.1 - - [16/Aug/2017 14:23:07] \"GET /example_input HTTP/1.1\" 200 -\n",
      "127.0.0.1 - - [16/Aug/2017 14:24:44] \"GET /example_input HTTP/1.1\" 200 -\n",
      "127.0.0.1 - - [16/Aug/2017 14:25:11] \"GET /example_input HTTP/1.1\" 200 -\n",
      "127.0.0.1 - - [16/Aug/2017 14:25:17] \"OPTIONS /predict HTTP/1.1\" 200 -\n"
     ]
    },
    {
     "name": "stdout",
     "output_type": "stream",
     "text": [
      "Received input data: {'Total': 318, 'HP': 45, 'Attack': 49, 'Defense': 49, 'Sp. Atk': 65, 'Sp. Def': 65, 'Speed': 45, 'Generation': 1, 'Type 1_Dark': 0, 'Type 1_Dragon': 0, 'Type 1_Electric': 0, 'Type 1_Fairy': 0, 'Type 1_Fighting': 0, 'Type 1_Fire': 0, 'Type 1_Flying': 0, 'Type 1_Ghost': 0, 'Type 1_Grass': 1, 'Type 1_Ground': 0, 'Type 1_Ice': 0, 'Type 1_Normal': 0, 'Type 1_Poison': 0, 'Type 1_Psychic': 0, 'Type 1_Rock': 0, 'Type 1_Steel': 0, 'Type 1_Water': 0, 'Type 2_Dark': 0, 'Type 2_Dragon': 0, 'Type 2_Electric': 0, 'Type 2_Fairy': 0, 'Type 2_Fighting': 0, 'Type 2_Fire': 0, 'Type 2_Flying': 0, 'Type 2_Ghost': 0, 'Type 2_Grass': 0, 'Type 2_Ground': 0, 'Type 2_Ice': 0, 'Type 2_Normal': 0, 'Type 2_Poison': 1, 'Type 2_Psychic': 0, 'Type 2_Rock': 0, 'Type 2_Steel': 0, 'Type 2_Water': 0}\n",
      "[False]\n"
     ]
    },
    {
     "name": "stderr",
     "output_type": "stream",
     "text": [
      "127.0.0.1 - - [16/Aug/2017 14:25:17] \"POST /predict HTTP/1.1\" 200 -\n",
      "127.0.0.1 - - [16/Aug/2017 14:25:42] \"GET /example_input HTTP/1.1\" 200 -\n",
      "127.0.0.1 - - [16/Aug/2017 14:25:55] \"GET /example_input HTTP/1.1\" 200 -\n",
      "127.0.0.1 - - [16/Aug/2017 14:26:07] \"GET /example_input HTTP/1.1\" 200 -\n"
     ]
    }
   ],
   "source": [
    "from flask import Flask, jsonify, request\n",
    "from flask_cors import CORS, cross_origin\n",
    "app = Flask(__name__)\n",
    "CORS(app)\n",
    "\n",
    "@app.route(\"/predict\",methods=['POST'])\n",
    "@cross_origin()\n",
    "def predict():\n",
    "    input_data = request.get_json()\n",
    "    print(\"Received input data: {}\".format(str(input_data)))\n",
    "    if input_data==None:\n",
    "        print(\"Empty data received\")\n",
    "        return\n",
    "    input_df = pd.DataFrame.from_dict([input_data])\n",
    "    prediction = model.predict(input_df)\n",
    "    print(prediction)\n",
    "    return jsonify({\"prediction\": str(prediction[0])})\n",
    "\n",
    "@app.route(\"/input_features\")\n",
    "@cross_origin()\n",
    "def input_features():\n",
    "    return jsonify(x.columns.tolist())\n",
    "\n",
    "@app.route(\"/example_input\")\n",
    "@cross_origin()\n",
    "def example_input():\n",
    "    return x.iloc[0].to_json()\n",
    "\n",
    "app.run(host='0.0.0.0', port=5777, debug=False, threaded=True)"
   ]
  },
  {
   "cell_type": "code",
   "execution_count": null,
   "metadata": {
    "collapsed": true
   },
   "outputs": [],
   "source": []
  }
 ],
 "metadata": {
  "kernelspec": {
   "display_name": "Python 3",
   "language": "python",
   "name": "python3"
  },
  "language_info": {
   "codemirror_mode": {
    "name": "ipython",
    "version": 3
   },
   "file_extension": ".py",
   "mimetype": "text/x-python",
   "name": "python",
   "nbconvert_exporter": "python",
   "pygments_lexer": "ipython3",
   "version": "3.6.2"
  }
 },
 "nbformat": 4,
 "nbformat_minor": 2
}
